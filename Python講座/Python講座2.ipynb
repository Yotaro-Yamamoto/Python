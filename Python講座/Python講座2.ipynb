{
 "cells": [
  {
   "cell_type": "code",
   "execution_count": 1,
   "metadata": {},
   "outputs": [
    {
     "name": "stdout",
     "output_type": "stream",
     "text": [
      "今日は3月5日です\n"
     ]
    }
   ],
   "source": [
    "def month():\n",
    "    print(\"今日は3月5日です\")\n",
    "month()"
   ]
  },
  {
   "cell_type": "code",
   "execution_count": 4,
   "metadata": {},
   "outputs": [
    {
     "name": "stdout",
     "output_type": "stream",
     "text": [
      "今日は3月5日です\n"
     ]
    }
   ],
   "source": [
    "def month(d1,d2):\n",
    "        result = \"今日は\"+str(d1)+\"月\"+str(d2)+\"日です\"\n",
    "        return result\n",
    "print(month(3,5))"
   ]
  },
  {
   "cell_type": "code",
   "execution_count": 2,
   "metadata": {},
   "outputs": [
    {
     "name": "stdout",
     "output_type": "stream",
     "text": [
      "今日は3月5日です\n"
     ]
    }
   ],
   "source": [
    "def month(d1,d2):\n",
    "        result = \"今日は\"+str(d1)+\"月\"+str(d2)+\"日です\"\n",
    "        return result\n",
    "show = month(3,5)\n",
    "print(show)"
   ]
  },
  {
   "cell_type": "code",
   "execution_count": 8,
   "metadata": {},
   "outputs": [
    {
     "name": "stdout",
     "output_type": "stream",
     "text": [
      "<__main__.Date object at 0x7fd35ce693c8> 火\n"
     ]
    }
   ],
   "source": [
    "class Date:\n",
    "    def check(self,day):\n",
    "        print(self, day)\n",
    "date = Date()\n",
    "date.check(\"火\")"
   ]
  },
  {
   "cell_type": "code",
   "execution_count": 7,
   "metadata": {},
   "outputs": [
    {
     "name": "stdout",
     "output_type": "stream",
     "text": [
      "今日は火曜日です\n"
     ]
    }
   ],
   "source": [
    "class Date:\n",
    "    def check(self,day):\n",
    "        print(\"今日は\"+str(day)+\"曜日です\")\n",
    "date = Date()\n",
    "date.check(\"火\")"
   ]
  }
 ],
 "metadata": {
  "kernelspec": {
   "display_name": "Python 3",
   "language": "python",
   "name": "python3"
  },
  "language_info": {
   "codemirror_mode": {
    "name": "ipython",
    "version": 3
   },
   "file_extension": ".py",
   "mimetype": "text/x-python",
   "name": "python",
   "nbconvert_exporter": "python",
   "pygments_lexer": "ipython3",
   "version": "3.6.9"
  }
 },
 "nbformat": 4,
 "nbformat_minor": 4
}
