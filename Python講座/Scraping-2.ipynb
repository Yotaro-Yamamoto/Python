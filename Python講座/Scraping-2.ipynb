{
 "cells": [
  {
   "cell_type": "code",
   "execution_count": 12,
   "metadata": {},
   "outputs": [
    {
     "name": "stdout",
     "output_type": "stream",
     "text": [
      "刺激苦手な子ども「HSC」接し方\n",
      "はしかワクチン接種希望者 急増\n",
      "桜の標本木 10年で4割超代替わり\n",
      "カイロス爆発 敷地の980平方m焼損\n",
      "「かわいい音」を研究 パ行に鍵\n",
      "オオワシ飛来 マナー違反の撮影も\n",
      "日本人2人の月面着陸 日米合意へ\n",
      "流産を3度経験 子の障害知り自責\n"
     ]
    },
    {
     "name": "stderr",
     "output_type": "stream",
     "text": [
      "/usr/lib/python3.6/html/parser.py:171: XMLParsedAsHTMLWarning: It looks like you're parsing an XML document using an HTML parser. If this really is an HTML document (maybe it's XHTML?), you can ignore or filter this warning. If it's XML, you should know that using an XML parser will be more reliable. To parse this document as XML, make sure you have the lxml package installed, and pass the keyword argument `features=\"xml\"` into the BeautifulSoup constructor.\n",
      "  k = self.parse_starttag(i)\n"
     ]
    }
   ],
   "source": [
    "import requests\n",
    "from bs4 import BeautifulSoup\n",
    "\n",
    "xml = requests.get(\n",
    "    'https://news.yahoo.co.jp/rss/topics/science.xml')\n",
    "soup = BeautifulSoup(xml.text, 'html.parser')\n",
    "for news in soup.findAll('item'):\n",
    "    print(news.title.string)"
   ]
  }
 ],
 "metadata": {
  "kernelspec": {
   "display_name": "Python 3",
   "language": "python",
   "name": "python3"
  },
  "language_info": {
   "codemirror_mode": {
    "name": "ipython",
    "version": 3
   },
   "file_extension": ".py",
   "mimetype": "text/x-python",
   "name": "python",
   "nbconvert_exporter": "python",
   "pygments_lexer": "ipython3",
   "version": "3.6.9"
  }
 },
 "nbformat": 4,
 "nbformat_minor": 4
}
